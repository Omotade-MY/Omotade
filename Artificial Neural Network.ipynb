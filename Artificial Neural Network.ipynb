{
 "cells": [
  {
   "cell_type": "code",
   "execution_count": 1,
   "metadata": {},
   "outputs": [],
   "source": [
    "import numpy as np\n",
    "class activation_func:\n",
    "    \n",
    "    def sigmoid(n):\n",
    "        a = 1 / (1+ np.exp(-n))\n",
    "        return a\n",
    "\n",
    "    def satlin(n):\n",
    "        if n<0:\n",
    "            return 0\n",
    "        elif 0 <= n <= 1:\n",
    "            return n\n",
    "        else:\n",
    "            return 1\n",
    "\n",
    "    def satlins(n):\n",
    "        if n<-1:\n",
    "            return -1\n",
    "        elif -1 <= n <= 1:\n",
    "            return n\n",
    "        else:\n",
    "            return 1\n",
    "\n",
    "    def purelin(n):\n",
    "        return n\n",
    "\n",
    "    def hardlim(n):\n",
    "        if n < 0:\n",
    "            return 0\n",
    "        else:\n",
    "            return 1\n",
    "\n",
    "    def hardlims(n):\n",
    "        if n < 0:\n",
    "            return -1\n",
    "        else:\n",
    "            return 1\n",
    "\n",
    "    def poslin(n):\n",
    "        if n < 0:\n",
    "            return 0\n",
    "        else:\n",
    "            return n\n",
    "\n",
    "    def compet(*n):\n",
    "\n",
    "        return np.array(n).max()\n",
    "\n",
    "    def hyptansig(n):\n",
    "        a = (np.exp(n) - np.exp(-n))/(np.exp(n) + np.exp(-n))\n",
    "        return a[0,0]"
   ]
  },
  {
   "cell_type": "markdown",
   "metadata": {},
   "source": [
    "excercise"
   ]
  },
  {
   "cell_type": "code",
   "execution_count": 2,
   "metadata": {},
   "outputs": [],
   "source": [
    "sigmoid = activation_func.sigmoid"
   ]
  },
  {
   "cell_type": "code",
   "execution_count": 3,
   "metadata": {},
   "outputs": [],
   "source": [
    "w = np.array([[3,2]])\n",
    "p = np.array([[-5,6]]).transpose()\n",
    "b = 1.2\n",
    "n = w.dot(p) + b"
   ]
  },
  {
   "cell_type": "code",
   "execution_count": 4,
   "metadata": {},
   "outputs": [],
   "source": [
    "class Neuron:\n",
    "    def __init__(self, weights, bias):\n",
    "        self.weights = weights\n",
    "        self.bias = bias\n",
    "        \n",
    "    def feedforward(self, inputs):\n",
    "        \n",
    "        total = np.dot(self.weights,inputs) + self.bias\n",
    "        \n",
    "        return sigmoid(total)"
   ]
  },
  {
   "cell_type": "code",
   "execution_count": 5,
   "metadata": {},
   "outputs": [
    {
     "data": {
      "text/plain": [
       "0.9990889488055994"
      ]
     },
     "execution_count": 5,
     "metadata": {},
     "output_type": "execute_result"
    }
   ],
   "source": [
    "neu = Neuron(weights=np.array([0,1]), bias=4)\n",
    "neu.feedforward(inputs=np.array([2,3]))"
   ]
  },
  {
   "cell_type": "code",
   "execution_count": 6,
   "metadata": {},
   "outputs": [],
   "source": [
    "class MyNeuralNetwork:\n",
    "    '''\n",
    "      A neural network with:\n",
    "        - 2 inputs\n",
    "        - a hidden layer with 2 neurons (h1, h2)\n",
    "        - an output layer with 1 neuron (o1)\n",
    "\n",
    "      *** DISCLAIMER ***:\n",
    "      The code below is intended to be simple and educational, NOT optimal.\n",
    "      Real neural net code looks nothing like this. DO NOT use this code.\n",
    "      Instead, read/run it to understand how this specific network works.\n",
    "      '''\n",
    "    def __init__(self, weights=None, bias=None):\n",
    "        # Weights\n",
    "        self.w1 = np.random.normal()\n",
    "        self.w2 = np.random.normal()\n",
    "        self.w3 = np.random.normal()\n",
    "        self.w4 = np.random.normal()\n",
    "        self.w5 = np.random.normal()\n",
    "        self.w6 = np.random.normal()\n",
    "        \n",
    "        # Biases\n",
    "        self.b1 = np.random.normal()\n",
    "        self.b2 = np.random.normal()\n",
    "        self.b3 = np.random.normal()\n",
    "        \n",
    "        self.weights = np.array(self.w1,self.w2,self.w3,self.w4,self.w5,self.w6)\n",
    "        self.bias = np.array(self.b1,self.b2,self.b3)\n",
    "        \n",
    "        self.h1 = Neuron(self.weights, bias)\n",
    "        self.h2 = Neuron(self.weights, bias)\n",
    "        \n",
    "        self.o1 = Neuron(self.weights, bias)\n",
    "        \n",
    "    def feedforward(self, inputs):\n",
    "        \n",
    "        h1_out = self.h1.feedforward(inputs)\n",
    "        h2_out = self.h2.feedforward(inputs)\n",
    "        \n",
    "        o1_out = self.o1.feedforward(np.array([h1_out,h2_out]))\n",
    "        \n",
    "        return o1_out"
   ]
  },
  {
   "cell_type": "code",
   "execution_count": 7,
   "metadata": {},
   "outputs": [
    {
     "data": {
      "text/plain": [
       "-0.09035331946182427"
      ]
     },
     "execution_count": 7,
     "metadata": {},
     "output_type": "execute_result"
    }
   ],
   "source": [
    "-2 * (sigmoid(-3) * (1 - sigmoid(-3)))\n"
   ]
  },
  {
   "cell_type": "code",
   "execution_count": 7,
   "metadata": {},
   "outputs": [],
   "source": [
    "import matplotlib.pyplot as plt\n",
    "def deriv_sigmoid(x):\n",
    "        return sigmoid(x) * (1-sigmoid(x))\n",
    "        \n",
    "def mse_loss_func(y_true, y_preds):\n",
    "    return ((y_true-y_preds)**2).mean()\n",
    "\n",
    "\n",
    "class OurNeuralNetwork:\n",
    "    '''\n",
    "      A neural network with:\n",
    "        - 2 inputs\n",
    "        - a hidden layer with 2 neurons (h1, h2)\n",
    "        - an output layer with 1 neuron (o1)\n",
    "\n",
    "      *** DISCLAIMER ***:\n",
    "      The code below is intended to be simple and educational, NOT optimal.\n",
    "      Real neural net code looks nothing like this. DO NOT use this code.\n",
    "      Instead, read/run it to understand how this specific network works.\n",
    "      '''\n",
    "    def __init__(self, weights=None, bias=None):\n",
    "        # Weights\n",
    "        self.w1 = np.random.normal()\n",
    "        self.w2 = np.random.normal()\n",
    "        self.w3 = np.random.normal()\n",
    "        self.w4 = np.random.normal()\n",
    "        self.w5 = np.random.normal()\n",
    "        self.w6 = np.random.normal()\n",
    "        \n",
    "        # Biases\n",
    "        self.b1 = np.random.normal()\n",
    "        self.b2 = np.random.normal()\n",
    "        self.b3 = np.random.normal()\n",
    "        \n",
    "        \n",
    "        self.losses = []\n",
    "        self.epoches = []\n",
    "\n",
    "    def feedforward(self, x):\n",
    "        \n",
    "        h1 = sigmoid(x[0]*self.w1 + x[1]*self.w2 + self.b1)\n",
    "        h2 = sigmoid(x[0]*self.w3 + x[1]*self.w4 + self.b2)\n",
    "        \n",
    "        o1 = sigmoid(h1*self.w5 + h2*self.w6 + self.b3)\n",
    "        \n",
    "        return o1\n",
    "    \n",
    "    def train(self,data,y_trues):\n",
    "        # data is a (n x 2) numpy array \n",
    "        # y_trues is (n,) numpy array of true labels\n",
    "        \n",
    "        learning_rate = 0.2\n",
    "        epochs = 1000\n",
    "        \n",
    "        for epoch in range(epochs):\n",
    "            for x,y_true in zip(data,y_trues):\n",
    "                \n",
    "                \n",
    "                h1_sum = x[0]*self.w1 + x[1]*self.w2 + self.b1\n",
    "                h1 = sigmoid(h1_sum)\n",
    "                \n",
    "                h2_sum = x[0]*self.w3 + x[1]*self.w4 + self.b2\n",
    "                h2 = sigmoid(h2_sum)\n",
    "                \n",
    "                o1_sum = h1*self.w5 + h2*self.w6 + self.b3\n",
    "                o1 = sigmoid(o1_sum)\n",
    "                \n",
    "                y_pred = o1\n",
    "                \n",
    "                # Find all partial differentials\n",
    "                \n",
    "                # **Note** d_L_d_ypred denote partial L/ partial y_pred\n",
    "                \n",
    "                d_L_d_ypred = -2*(y_true-y_pred)\n",
    "                \n",
    "                # Neuron h1 \n",
    "                d_h1_d_w1 = x[0] * deriv_sigmoid(h1_sum)\n",
    "                d_h1_d_w2 = x[1] * deriv_sigmoid(h1_sum)\n",
    "                d_h1_d_b1 = deriv_sigmoid(h1_sum)\n",
    "                \n",
    "                # Neuron h2\n",
    "                d_h2_d_w3 = x[0] * deriv_sigmoid(h2_sum)\n",
    "                d_h2_d_w4 = x[1] * deriv_sigmoid(h2_sum)\n",
    "                d_h2_d_b2 = deriv_sigmoid(h2_sum)\n",
    "                \n",
    "                # Output Neuron o1\n",
    "                d_ypred_d_h1 = self.w5 * deriv_sigmoid(o1_sum)\n",
    "                d_ypred_d_h2 = self.w6 * deriv_sigmoid(o1_sum)\n",
    "                d_ypred_d_b3 = deriv_sigmoid(o1_sum)\n",
    "                d_ypred_d_w5 = h1 * deriv_sigmoid(o1_sum)\n",
    "                d_ypred_d_w6 = h2 * deriv_sigmoid(o1_sum)\n",
    "                \n",
    "                \n",
    "                # Updating Weights\n",
    "                # neuron h1\n",
    "                self.w1 -= learning_rate * d_L_d_ypred * d_ypred_d_h1 * d_h1_d_w1\n",
    "                self.w2 -= learning_rate * d_L_d_ypred * d_ypred_d_h1 * d_h1_d_w2\n",
    "                self.b1 -= learning_rate * d_L_d_ypred * d_ypred_d_h1 * d_h1_d_b1\n",
    "                \n",
    "                # Neuron h2\n",
    "                self.w3 -= learning_rate * d_L_d_ypred * d_ypred_d_h2 * d_h2_d_w3\n",
    "                self.w4 -= learning_rate * d_L_d_ypred * d_ypred_d_h2 * d_h2_d_w4\n",
    "                self.b2 -= learning_rate * d_L_d_ypred * d_ypred_d_h2 * d_h2_d_b2\n",
    "                \n",
    "                # Neuron o1\n",
    "                self.w5 -= learning_rate * d_L_d_ypred * d_ypred_d_w5\n",
    "                self.w6 -= learning_rate * d_L_d_ypred * d_ypred_d_w6\n",
    "                self.b3 -= learning_rate * d_L_d_ypred * d_ypred_d_b3\n",
    "                \n",
    "                \n",
    "            if epoch % 10 == 0:\n",
    "                y_preds = np.apply_along_axis(self.feedforward, 1, data)\n",
    "                loss = mse_loss_func(y_trues, y_preds)\n",
    "                print('Epoch :{} Loss: {}'.format(epoch,loss))\n",
    "\n",
    "                self.epoches.append(epoch)\n",
    "                self.losses.append(loss)\n",
    "                    \n",
    "    def Plot(self):\n",
    "        plt.plot(self.losses,self.epoches)\n",
    "        plt.xlabel('Loss')\n",
    "        plt.ylabel('Epoch')\n",
    "        plt.title('Epoch vs Loss')\n",
    "        \n",
    "        "
   ]
  },
  {
   "cell_type": "code",
   "execution_count": 8,
   "metadata": {},
   "outputs": [],
   "source": [
    "import pandas as pd\n",
    "df = pd.DataFrame({'Name':['Alice','Bob','Charlie','Diana'], 'Weight (lb)':[133,160,152,120], 'Height (in)':[65,72,70,60], 'Gender':['F','M','M','F']})"
   ]
  },
  {
   "cell_type": "code",
   "execution_count": 9,
   "metadata": {},
   "outputs": [],
   "source": [
    "df['Weight (lb)'] = df['Weight (lb)'] - 135\n",
    "df['Height (in)'] = df['Height (in)'] - 66"
   ]
  },
  {
   "cell_type": "code",
   "execution_count": 10,
   "metadata": {},
   "outputs": [
    {
     "data": {
      "text/html": [
       "<div>\n",
       "<style scoped>\n",
       "    .dataframe tbody tr th:only-of-type {\n",
       "        vertical-align: middle;\n",
       "    }\n",
       "\n",
       "    .dataframe tbody tr th {\n",
       "        vertical-align: top;\n",
       "    }\n",
       "\n",
       "    .dataframe thead th {\n",
       "        text-align: right;\n",
       "    }\n",
       "</style>\n",
       "<table border=\"1\" class=\"dataframe\">\n",
       "  <thead>\n",
       "    <tr style=\"text-align: right;\">\n",
       "      <th></th>\n",
       "      <th>Name</th>\n",
       "      <th>Weight (lb)</th>\n",
       "      <th>Height (in)</th>\n",
       "      <th>Gender</th>\n",
       "    </tr>\n",
       "  </thead>\n",
       "  <tbody>\n",
       "    <tr>\n",
       "      <th>0</th>\n",
       "      <td>Alice</td>\n",
       "      <td>-2</td>\n",
       "      <td>-1</td>\n",
       "      <td>F</td>\n",
       "    </tr>\n",
       "    <tr>\n",
       "      <th>1</th>\n",
       "      <td>Bob</td>\n",
       "      <td>25</td>\n",
       "      <td>6</td>\n",
       "      <td>M</td>\n",
       "    </tr>\n",
       "    <tr>\n",
       "      <th>2</th>\n",
       "      <td>Charlie</td>\n",
       "      <td>17</td>\n",
       "      <td>4</td>\n",
       "      <td>M</td>\n",
       "    </tr>\n",
       "    <tr>\n",
       "      <th>3</th>\n",
       "      <td>Diana</td>\n",
       "      <td>-15</td>\n",
       "      <td>-6</td>\n",
       "      <td>F</td>\n",
       "    </tr>\n",
       "  </tbody>\n",
       "</table>\n",
       "</div>"
      ],
      "text/plain": [
       "      Name  Weight (lb)  Height (in) Gender\n",
       "0    Alice           -2           -1      F\n",
       "1      Bob           25            6      M\n",
       "2  Charlie           17            4      M\n",
       "3    Diana          -15           -6      F"
      ]
     },
     "execution_count": 10,
     "metadata": {},
     "output_type": "execute_result"
    }
   ],
   "source": [
    "df"
   ]
  },
  {
   "cell_type": "code",
   "execution_count": 11,
   "metadata": {},
   "outputs": [],
   "source": [
    "data = df[['Weight (lb)', 'Height (in)']].values\n",
    "y = df['Gender'].apply(lambda val: 1 if val =='F' else 0).values"
   ]
  },
  {
   "cell_type": "code",
   "execution_count": 14,
   "metadata": {},
   "outputs": [
    {
     "name": "stdout",
     "output_type": "stream",
     "text": [
      "Epoch :0 Loss: 0.3593899183619651\n",
      "Epoch :10 Loss: 0.13417100534825216\n",
      "Epoch :20 Loss: 0.08164156280075743\n",
      "Epoch :30 Loss: 0.056373440722005515\n",
      "Epoch :40 Loss: 0.041793433135192015\n",
      "Epoch :50 Loss: 0.03264779521451286\n",
      "Epoch :60 Loss: 0.026512035102057123\n",
      "Epoch :70 Loss: 0.02216933482984273\n",
      "Epoch :80 Loss: 0.018962367727671244\n",
      "Epoch :90 Loss: 0.016512083489381223\n",
      "Epoch :100 Loss: 0.014587382101258359\n",
      "Epoch :110 Loss: 0.013040589874292017\n",
      "Epoch :120 Loss: 0.01177352294589599\n",
      "Epoch :130 Loss: 0.01071866154479475\n",
      "Epoch :140 Loss: 0.009828210591785855\n",
      "Epoch :150 Loss: 0.009067480957677464\n",
      "Epoch :160 Loss: 0.008410741143339048\n",
      "Epoch :170 Loss: 0.007838535588071726\n",
      "Epoch :180 Loss: 0.007335903082636577\n",
      "Epoch :190 Loss: 0.006891164122710705\n",
      "Epoch :200 Loss: 0.00649507745834611\n",
      "Epoch :210 Loss: 0.006140241933064897\n",
      "Epoch :220 Loss: 0.005820664785176036\n",
      "Epoch :230 Loss: 0.005531445105352189\n",
      "Epoch :240 Loss: 0.005268538358919409\n",
      "Epoch :250 Loss: 0.005028578888771328\n",
      "Epoch :260 Loss: 0.0048087444964595065\n",
      "Epoch :270 Loss: 0.004606651971781789\n",
      "Epoch :280 Loss: 0.004420275667312905\n",
      "Epoch :290 Loss: 0.004247883429363302\n",
      "Epoch :300 Loss: 0.004087985739842923\n",
      "Epoch :310 Loss: 0.003939295012860058\n",
      "Epoch :320 Loss: 0.0038006927686205618\n",
      "Epoch :330 Loss: 0.0036712029703874624\n",
      "Epoch :340 Loss: 0.003549970222018241\n",
      "Epoch :350 Loss: 0.003436241827713144\n",
      "Epoch :360 Loss: 0.003329352942373594\n",
      "Epoch :370 Loss: 0.003228714211580742\n",
      "Epoch :380 Loss: 0.0031338014296538033\n",
      "Epoch :390 Loss: 0.003044146843251661\n",
      "Epoch :400 Loss: 0.0029593318042702914\n",
      "Epoch :410 Loss: 0.002878980534995329\n",
      "Epoch :420 Loss: 0.002802754814727911\n",
      "Epoch :430 Loss: 0.0027303494334770975\n",
      "Epoch :440 Loss: 0.002661488287089289\n",
      "Epoch :450 Loss: 0.002595921011083302\n",
      "Epoch :460 Loss: 0.002533420068780293\n",
      "Epoch :470 Loss: 0.0024737782240536422\n",
      "Epoch :480 Loss: 0.002416806340934902\n",
      "Epoch :490 Loss: 0.0023623314619867805\n",
      "Epoch :500 Loss: 0.002310195125248097\n",
      "Epoch :510 Loss: 0.0022602518860250255\n",
      "Epoch :520 Loss: 0.0022123680151269957\n",
      "Epoch :530 Loss: 0.002166420349545105\n",
      "Epoch :540 Loss: 0.002122295275219911\n",
      "Epoch :550 Loss: 0.002079887824583908\n",
      "Epoch :560 Loss: 0.002039100874102477\n",
      "Epoch :570 Loss: 0.0019998444291657105\n",
      "Epoch :580 Loss: 0.0019620349854739044\n",
      "Epoch :590 Loss: 0.0019255949575705566\n",
      "Epoch :600 Loss: 0.0018904521664556613\n",
      "Epoch :610 Loss: 0.001856539379298057\n",
      "Epoch :620 Loss: 0.0018237938951900323\n",
      "Epoch :630 Loss: 0.0017921571716768955\n",
      "Epoch :640 Loss: 0.0017615744874698263\n",
      "Epoch :650 Loss: 0.0017319946373304555\n",
      "Epoch :660 Loss: 0.0017033696556144973\n",
      "Epoch :670 Loss: 0.0016756545653923171\n",
      "Epoch :680 Loss: 0.0016488071504363205\n",
      "Epoch :690 Loss: 0.0016227877476876129\n",
      "Epoch :700 Loss: 0.0015975590580941757\n",
      "Epoch :710 Loss: 0.0015730859739567238\n",
      "Epoch :720 Loss: 0.0015493354211307173\n",
      "Epoch :730 Loss: 0.001526276214618754\n",
      "Epoch :740 Loss: 0.0015038789262501768\n",
      "Epoch :750 Loss: 0.0014821157632873246\n",
      "Epoch :760 Loss: 0.0014609604569230388\n",
      "Epoch :770 Loss: 0.0014403881597446527\n",
      "Epoch :780 Loss: 0.001420375351336704\n",
      "Epoch :790 Loss: 0.0014008997512807955\n",
      "Epoch :800 Loss: 0.001381940238886943\n",
      "Epoch :810 Loss: 0.0013634767790582224\n",
      "Epoch :820 Loss: 0.0013454903537504783\n",
      "Epoch :830 Loss: 0.0013279628985418145\n",
      "Epoch :840 Loss: 0.0013108772438742468\n",
      "Epoch :850 Loss: 0.0012942170605719208\n",
      "Epoch :860 Loss: 0.0012779668092781744\n",
      "Epoch :870 Loss: 0.001262111693487298\n",
      "Epoch :880 Loss: 0.001246637615877238\n",
      "Epoch :890 Loss: 0.0012315311376763383\n",
      "Epoch :900 Loss: 0.001216779440821777\n",
      "Epoch :910 Loss: 0.0012023702926889145\n",
      "Epoch :920 Loss: 0.0011882920131907533\n",
      "Epoch :930 Loss: 0.0011745334440641042\n",
      "Epoch :940 Loss: 0.001161083920175273\n",
      "Epoch :950 Loss: 0.0011479332426924528\n",
      "Epoch :960 Loss: 0.001135071653984934\n",
      "Epoch :970 Loss: 0.0011224898141212745\n",
      "Epoch :980 Loss: 0.0011101787788490457\n",
      "Epoch :990 Loss: 0.0010981299789487118\n"
     ]
    }
   ],
   "source": [
    "nn_obj = OurNeuralNetwork()\n",
    "nn_obj.train(data,y)"
   ]
  },
  {
   "cell_type": "code",
   "execution_count": 15,
   "metadata": {},
   "outputs": [
    {
     "data": {
      "image/png": "[encoded data removed]",
      "text/plain": [
       "<Figure size 432x288 with 1 Axes>"
      ]
     },
     "metadata": {
      "needs_background": "light"
     },
     "output_type": "display_data"
    }
   ],
   "source": [
    "nn_obj.Plot()"
   ]
  },
  {
   "cell_type": "code",
   "execution_count": 16,
   "metadata": {},
   "outputs": [],
   "source": [
    "fatimah = np.array([-7,-3])\n",
    "hassan = np.array([20,2])"
   ]
  },
  {
   "cell_type": "code",
   "execution_count": 17,
   "metadata": {},
   "outputs": [
    {
     "data": {
      "text/plain": [
       "0.97619229703903"
      ]
     },
     "execution_count": 17,
     "metadata": {},
     "output_type": "execute_result"
    }
   ],
   "source": [
    "nn_obj.feedforward(fatimah)"
   ]
  },
  {
   "cell_type": "code",
   "execution_count": 18,
   "metadata": {},
   "outputs": [
    {
     "data": {
      "text/plain": [
       "0.038150105444891995"
      ]
     },
     "execution_count": 18,
     "metadata": {},
     "output_type": "execute_result"
    }
   ],
   "source": [
    "nn_obj.feedforward(hassan)"
   ]
  },
  {
   "cell_type": "code",
   "execution_count": 77,
   "metadata": {},
   "outputs": [
    {
     "data": {
      "image/png": "[encoded data removed]",
      "text/plain": [
       "<Figure size 864x720 with 1 Axes>"
      ]
     },
     "metadata": {
      "needs_background": "light"
     },
     "output_type": "display_data"
    }
   ],
   "source": [
    "x = np.arange(9)\n",
    "sinh = (np.exp(x) - np.exp(-x))/2\n",
    "cosh = (np.exp(x) + np.exp(-x))/2\n",
    "tanh = sinh/cosh\n",
    "plt.figure(figsize=(12,10))\n",
    "for name, y in zip(['sinh(x)', 'cosh(x)','tanh(x)'], [sinh,cosh,tanh]):\n",
    "    plt.plot(x,y, linestyle='--', linewidth='2')\n",
    "    plt.legend(['sinh(x)', 'cosh(x)','tanh(x)'])\n",
    "    plt.title('Graph Hyperbolic Functions')\n",
    "    plt.xlabel('x')\n",
    "    plt.ylabel('y')"
   ]
  },
  {
   "cell_type": "code",
   "execution_count": 75,
   "metadata": {},
   "outputs": [
    {
     "data": {
      "text/plain": [
       "7.38905609893065"
      ]
     },
     "execution_count": 75,
     "metadata": {},
     "output_type": "execute_result"
    }
   ],
   "source": [
    "np.exp(2)"
   ]
  }
 ],
 "metadata": {
  "kernelspec": {
   "display_name": "Python 3",
   "language": "python",
   "name": "python3"
  },
  "language_info": {
   "codemirror_mode": {
    "name": "ipython",
    "version": 3
   },
   "file_extension": ".py",
   "mimetype": "text/x-python",
   "name": "python",
   "nbconvert_exporter": "python",
   "pygments_lexer": "ipython3",
   "version": "3.8.5"
  }
 },
 "nbformat": 4,
 "nbformat_minor": 2
}
